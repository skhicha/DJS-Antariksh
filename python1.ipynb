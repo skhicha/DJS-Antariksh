{
 "cells": [
  {
   "cell_type": "code",
   "execution_count": 5,
   "metadata": {},
   "outputs": [
    {
     "name": "stdout",
     "output_type": "stream",
     "text": [
      "The orginal list is: [1, 2, 3, 4, 5]\n",
      "The modified list is: [5, 2, 3, 4, 1]\n"
     ]
    }
   ],
   "source": [
    "#to swap first and last element in a list\n",
    "n = int(input(\"Enter number of elements: \"))\n",
    "a = []\n",
    "for i in range(0, n):\n",
    "    element = int(input(f\"Enter {i+1} element: \"))\n",
    "    a.append(element)\n",
    "print(f\"The orginal list is: {a}\")\n",
    "temp = a[0]\n",
    "a[0] = a[n-1]\n",
    "a[n-1] = temp\n",
    "print(f\"The modified list is: {a}\")"
   ]
  },
  {
   "cell_type": "code",
   "execution_count": 6,
   "metadata": {},
   "outputs": [
    {
     "name": "stdout",
     "output_type": "stream",
     "text": [
      "3 found at 3 position in the list\n"
     ]
    }
   ],
   "source": [
    "# to find the specified number in the list\n",
    "n = int(input(\"Enter the number of elements: \"))\n",
    "a = []\n",
    "for i in range(0, n):\n",
    "    ele = int(input(f\"Enter {i+1} element: \"))\n",
    "    a.append(ele)\n",
    "ele1 = int(input(f\"Enter the number to find: \"))\n",
    "for i in range(0, n):\n",
    "    if(a[i] == ele1):\n",
    "        print(f\"{ele1} found at {i+1} position in the list\")"
   ]
  },
  {
   "cell_type": "code",
   "execution_count": 7,
   "metadata": {},
   "outputs": [
    {
     "name": "stdout",
     "output_type": "stream",
     "text": [
      "The maximum number in [45, 65, 44, 56, 78] is 78\n",
      "The minimum number in [45, 65, 44, 56, 78] is 44\n"
     ]
    }
   ],
   "source": [
    "#to find the maximum and minimumm numbe rin the list\n",
    "n = int(input(\"Enter number of elements: \"))\n",
    "a = []\n",
    "for i in range(0, n):\n",
    "    ele = int(input(f\"Enter {i+1} element: \"))\n",
    "    a.append(ele)\n",
    "max = a[0]\n",
    "min = a[0]\n",
    "for i in range(1, n):\n",
    "    if(a[i] > max):\n",
    "        max = a[i]\n",
    "    if(a[i] < min):\n",
    "        min = a[i]\n",
    "print(f\"The maximum number in {a} is {max}\")\n",
    "print(f\"The minimum number in {a} is {min}\")"
   ]
  },
  {
   "cell_type": "code",
   "execution_count": 9,
   "metadata": {},
   "outputs": [
    {
     "name": "stdout",
     "output_type": "stream",
     "text": [
      "The original list : ['My', 1, 'Name', 5, 'Is', 0, 'Shubham', 7, 'Khicha', 5]\n",
      "The constructed dictionary list : [{'name': 'My', 'number': 1}, {'name': 'Name', 'number': 5}, {'name': 'Is', 'number': 0}, {'name': 'Shubham', 'number': 7}, {'name': 'Khicha', 'number': 5}]\n"
     ]
    }
   ],
   "source": [
    "#to convert list into dictionary\n",
    "list1 = [\"My\", 1, \"Name\", 5, \"Is\", 0, \"Shubham\", 7, \"Khicha\", 5]\n",
    "print(\"The original list : \" + str(list1))\n",
    "list2 = [\"name\", \"number\"]\n",
    "n = len(list1)\n",
    "res = []\n",
    "for i in range(0, n, 2):\n",
    "\tres.append({list2[0]: list1[i], list2[1] : list1[i + 1]})\n",
    "print(\"The constructed dictionary list : \" + str(res))"
   ]
  },
  {
   "cell_type": "code",
   "execution_count": 10,
   "metadata": {},
   "outputs": [
    {
     "name": "stdout",
     "output_type": "stream",
     "text": [
      "The original list is [1, 2, 3, 4, 5]\n",
      "The rotated list is [3, 4, 5, 1, 2]\n"
     ]
    }
   ],
   "source": [
    "#rotate the list to the right by 'k' steps\n",
    "n = int(input(\"Enter number of elements: \"))\n",
    "a = []\n",
    "for i in range(0, n):\n",
    "    ele = int(input(f\"Enter {i+1} element: \"))\n",
    "    a.append(ele)\n",
    "k = int(input(\"Enter the value for rotating: \"))\n",
    "print(f\"The original list is {a}\")\n",
    "list1 = a[k-1:n:1]\n",
    "list2 = a[0:k-1:1]\n",
    "a = list1 + list2\n",
    "print(f\"The rotated list is {a}\")"
   ]
  }
 ],
 "metadata": {
  "kernelspec": {
   "display_name": "Python 3",
   "language": "python",
   "name": "python3"
  },
  "language_info": {
   "codemirror_mode": {
    "name": "ipython",
    "version": 3
   },
   "file_extension": ".py",
   "mimetype": "text/x-python",
   "name": "python",
   "nbconvert_exporter": "python",
   "pygments_lexer": "ipython3",
   "version": "3.9.6"
  }
 },
 "nbformat": 4,
 "nbformat_minor": 2
}
