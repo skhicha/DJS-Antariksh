{
 "cells": [
  {
   "cell_type": "code",
   "execution_count": 14,
   "metadata": {},
   "outputs": [
    {
     "name": "stdout",
     "output_type": "stream",
     "text": [
      "The total number of items in the store inventory is: 86\n"
     ]
    }
   ],
   "source": [
    "#to manage a store inventory using functions and classes\n",
    "class Inventory:\n",
    "    def __init__(self):\n",
    "        self.items = {}\n",
    "    def add_items(self, item_name, quantity):\n",
    "        if item_name in self.items:\n",
    "            self.items[item_name] += quantity\n",
    "        else:\n",
    "            self.items[item_name] = quantity\n",
    "    def calculate_total_items(self):\n",
    "        return sum(self.items.values())\n",
    "store_inventory = Inventory()\n",
    "store_inventory.add_items(\"apple\", 15)\n",
    "store_inventory.add_items(\"chikoo\", 23)\n",
    "store_inventory.add_items(\"mango\", 43)\n",
    "store_inventory.add_items(\"apple\", 5)\n",
    "sum = store_inventory.calculate_total_items()\n",
    "print(f\"The total number of items in the store inventory is: {sum}\")\n"
   ]
  },
  {
   "cell_type": "code",
   "execution_count": 20,
   "metadata": {},
   "outputs": [
    {
     "name": "stdout",
     "output_type": "stream",
     "text": [
      "[70, 71, 72, 73, 74, 75]\n",
      "[-31, -30, -29, -28, -27, -26]\n",
      "[2, 4, 6, 8, 10, 12]\n",
      "[0.2, 0.4, 0.6, 0.8, 1.0, 1.2]\n"
     ]
    }
   ],
   "source": [
    " #Python function apply_operation that takes a list of numbers and applies a given operation (addition, subtraction, multiplication, or division) to all elements using a lambda function\n",
    "def apply_operations(numbers, operation, num):\n",
    "    if operation == \"Addition\":\n",
    "        return list(map(lambda x: x + num , numbers))\n",
    "    if operation == \"Subtraction\":\n",
    "        return list(map(lambda x: x - num, numbers))\n",
    "    if operation == \"Multiplication\":\n",
    "        return list(map(lambda x: x * num , numbers))\n",
    "    if operation == \"Division\":\n",
    "        return list(map(lambda x: x / num , numbers))\n",
    "    else:\n",
    "        return \"Invalid Input\"\n",
    "numbers = [1,2,3,4,5,6]\n",
    "print(apply_operations(numbers, \"Addition\", 69))\n",
    "print(apply_operations(numbers, \"Subtraction\", 32))\n",
    "print(apply_operations(numbers, \"Multiplication\", 2))\n",
    "print(apply_operations(numbers, \"Division\", 5))\n",
    "\n",
    "    \n",
    "        "
   ]
  },
  {
   "cell_type": "code",
   "execution_count": 22,
   "metadata": {},
   "outputs": [
    {
     "name": "stdout",
     "output_type": "stream",
     "text": [
      "Bank Account Number: 12345678, Account Balance: 7000\n",
      "Bank Account Number: 135792468, Account Balance: 31500.0\n"
     ]
    }
   ],
   "source": [
    "#Create a base class BankAccount with attributes account_number and balance, and methods deposit and withdraw. Derive a subclass SavingsAccount from BankAccount with an additional attribute interest_rate. Implement methods in SavingsAccount to calculate interest and update balance accordingly\n",
    "class BankAccount:\n",
    "    def __init__(self, account_number, balance = 0):\n",
    "        self.account_number = account_number\n",
    "        self.balance = balance\n",
    "    def deposit(self, amount):\n",
    "        self.balance += amount\n",
    "    def withdraw(self, amount):\n",
    "        if self.balance >= amount:\n",
    "            self.balance -= amount\n",
    "        else:\n",
    "            print(\"Insufficient balance\")\n",
    "class SavingsAccount(BankAccount):\n",
    "    def __init__(self, account_number, balance, interest = 0.05):\n",
    "        super().__init__(account_number, balance)\n",
    "        self.interest = interest\n",
    "    def calculate_interest(self):\n",
    "        interest = self.balance * self.interest\n",
    "        self.deposit(interest)\n",
    "account1 = BankAccount(\"12345678\")\n",
    "account1.deposit(10000)\n",
    "account1.withdraw(3000)\n",
    "print(f\"Bank Account Number: {account1.account_number}, Account Balance: {account1.balance}\")\n",
    "account2 = SavingsAccount(\"135792468\", 30000)\n",
    "account2.calculate_interest()\n",
    "print(f\"Bank Account Number: {account2.account_number}, Account Balance: {account2.balance}\")"
   ]
  },
  {
   "cell_type": "code",
   "execution_count": 2,
   "metadata": {},
   "outputs": [
    {
     "name": "stdout",
     "output_type": "stream",
     "text": [
      "2\n",
      "3\n"
     ]
    }
   ],
   "source": [
    "#Write a decorator ensure_positive_result that ensures the result of a function is positive by converting negative results to their absolute values\n",
    "def ensure_positive_result(func):\n",
    "    def wrapper(*args, **kwargs):\n",
    "        result = func(*args, **kwargs)\n",
    "        if result < 0:\n",
    "            result = abs(result)\n",
    "        return result\n",
    "    return wrapper\n",
    "@ensure_positive_result\n",
    "def calculate_difference(a, b):\n",
    "    return a - b\n",
    "print(calculate_difference(5, 3))\n",
    "print(calculate_difference(2, 5))"
   ]
  },
  {
   "cell_type": "code",
   "execution_count": 6,
   "metadata": {},
   "outputs": [
    {
     "name": "stdout",
     "output_type": "stream",
     "text": [
      "Student ID 101 marked present for Mathematics\n",
      "Student ID 102 marked present for Mathematics\n",
      "Student ID 103 marked absent for Mathematics\n",
      "Attendance record for Student ID 101:\n",
      "Mathematics: present\n",
      "Attendance record for Student ID 102:\n",
      "Mathematics: present\n",
      "Attendance record for Student ID 103:\n",
      "Mathematics: absent\n",
      "\n",
      "Attendance statistics for Mathematics:\n",
      "Student ID 101: 100.00% attendance\n",
      "Student ID 102: 100.00% attendance\n",
      "Student ID 103: 0.00% attendance\n"
     ]
    }
   ],
   "source": [
    "#implementing a system to manage student attendance. Each student has a unique ID and can attend multiple classes. Create a Python program using classes and function decorators that allows for marking attendance and retrieving attendance statistics\n",
    "def log_attendance(func):\n",
    "    def wrapper(self, student_id, present):\n",
    "        result = func(self, student_id, present)\n",
    "        if present:\n",
    "            status = \"present\"\n",
    "        else:\n",
    "            status = \"absent\"\n",
    "        print(f\"Student ID {student_id} marked {status} for {self.course_name}\")\n",
    "        return result\n",
    "    return wrapper\n",
    "class Student:\n",
    "    def __init__(self, student_id):\n",
    "        self.student_id = student_id\n",
    "        self.attendance_record = {}\n",
    "\n",
    "    def mark_attendance(self, course_name, present=True):\n",
    "        self.attendance_record[course_name] = present\n",
    "\n",
    "    def display_attendance(self):\n",
    "        print(f\"Attendance record for Student ID {self.student_id}:\")\n",
    "        for course, present in self.attendance_record.items():\n",
    "            if present:\n",
    "                status = \"present\"\n",
    "            else:\n",
    "                status = \"absent\"\n",
    "            print(f\"{course}: {status}\")\n",
    "class Course:\n",
    "    def __init__(self, course_name):\n",
    "        self.course_name = course_name\n",
    "        self.students = {}\n",
    "\n",
    "    def add_student(self, student):\n",
    "        self.students[student.student_id] = student\n",
    "\n",
    "    @log_attendance\n",
    "    def mark_attendance(self, student_id, present=True):\n",
    "        if student_id in self.students:\n",
    "            self.students[student_id].mark_attendance(self.course_name, present)\n",
    "        else:\n",
    "            print(f\"Student ID {student_id} is not enrolled in {self.course_name}\")\n",
    "\n",
    "    def display_attendance_stats(self):\n",
    "        print(f\"\\nAttendance statistics for {self.course_name}:\")\n",
    "        for student_id, student in self.students.items():\n",
    "            total_classes = len(student.attendance_record)\n",
    "            attended_classes = sum(student.attendance_record.values())\n",
    "            if total_classes > 0:\n",
    "                attendance_percentage = (attended_classes / total_classes) * 100 \n",
    "            else:\n",
    "                attendance_percentage = 0\n",
    "            print(f\"Student ID {student_id}: {attendance_percentage:.2f}% attendance\")\n",
    "student1 = Student(101)\n",
    "student2 = Student(102)\n",
    "student3 = Student(103)\n",
    "math_course = Course(\"Mathematics\")\n",
    "math_course.add_student(student1)\n",
    "math_course.add_student(student2)\n",
    "math_course.add_student(student3)\n",
    "math_course.mark_attendance(101, True)\n",
    "math_course.mark_attendance(102, True)\n",
    "math_course.mark_attendance(103, False)\n",
    "student1.display_attendance()\n",
    "student2.display_attendance()\n",
    "student3.display_attendance()\n",
    "math_course.display_attendance_stats()\n"
   ]
  }
 ],
 "metadata": {
  "kernelspec": {
   "display_name": "Python 3",
   "language": "python",
   "name": "python3"
  },
  "language_info": {
   "codemirror_mode": {
    "name": "ipython",
    "version": 3
   },
   "file_extension": ".py",
   "mimetype": "text/x-python",
   "name": "python",
   "nbconvert_exporter": "python",
   "pygments_lexer": "ipython3",
   "version": "3.9.6"
  }
 },
 "nbformat": 4,
 "nbformat_minor": 2
}
