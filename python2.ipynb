{
 "cells": [
  {
   "cell_type": "code",
   "execution_count": 3,
   "metadata": {},
   "outputs": [
    {
     "name": "stdout",
     "output_type": "stream",
     "text": [
      "The dictionary is {'hello': 2, 'my': 1, 'name': 1, 'is': 1, 'shubham': 2, 'khicha': 2, ',': 1, 'i': 1, 'am': 1}\n"
     ]
    }
   ],
   "source": [
    "#word frequency counter \n",
    "str = \"Hello my name is Shubham Khicha , hello i am Shubham Khicha\"\n",
    "str1 = str.lower()\n",
    "words = str1.split()\n",
    "freq = {}\n",
    "for word in words:\n",
    "    if word in freq:\n",
    "        freq[word] += 1\n",
    "    else:\n",
    "        freq[word] = 1\n",
    "print(f\"The dictionary is {freq}\")"
   ]
  },
  {
   "cell_type": "code",
   "execution_count": 4,
   "metadata": {},
   "outputs": [
    {
     "name": "stdout",
     "output_type": "stream",
     "text": [
      "The original dictionary is {'name': 'Shubham', 'age': 18, 'occupation': 'Student'}\n",
      "The updated dictionary is {'name': 'Shubham Khicha', 'age': 19, 'occupation': 'Student in 2nd year'}\n"
     ]
    }
   ],
   "source": [
    "#dictionary manipulation\n",
    "dict = {\n",
    "    \"name\": \"Shubham\",\n",
    "    \"age\": 18,\n",
    "    \"occupation\": \"Student\"\n",
    "}\n",
    "print(f\"The original dictionary is {dict}\")\n",
    "dict[\"name\"] = \"Shubham Khicha\"\n",
    "dict[\"age\"] = 19\n",
    "dict[\"occupation\"] = \"Student in 2nd year\"\n",
    "print(f\"The updated dictionary is {dict}\")\n",
    "\n"
   ]
  },
  {
   "cell_type": "code",
   "execution_count": 5,
   "metadata": {},
   "outputs": [
    {
     "name": "stdout",
     "output_type": "stream",
     "text": [
      "Filtered dictionary is {'Rushabh': 81, 'Tanush': 100}\n"
     ]
    }
   ],
   "source": [
    "#dictioanry filtering\n",
    "dict = {\n",
    "    \"Shubham\": 69,\n",
    "    \"Rushabh\": 81,\n",
    "    \"Tanush\": 100,\n",
    "    \"Rishi\": 65\n",
    "}\n",
    "dict1 = {}\n",
    "for key, value in dict.items():\n",
    "    if(value > 80):\n",
    "        dict1[key] = value\n",
    "print(f\"Filtered dictionary is {dict1}\")"
   ]
  },
  {
   "cell_type": "code",
   "execution_count": 11,
   "metadata": {},
   "outputs": [
    {
     "name": "stdout",
     "output_type": "stream",
     "text": [
      "Rushabh's grade in Java is: 95\n"
     ]
    }
   ],
   "source": [
    "#nested dictionary\n",
    "dict = {\n",
    "    \"Shubham\": {\n",
    "        \"Maths\": 92,\n",
    "        \"Java\": 82\n",
    "    },\n",
    "    \"Rushabh\": {\n",
    "        \"Maths\": 85,\n",
    "        \"Java\": 95\n",
    "    },\n",
    "    \"Tanush\": {\n",
    "        \"Maths\": 87,\n",
    "        \"Java\": 85\n",
    "    } \n",
    "}\n",
    "name = input(\"Enter a name: \")\n",
    "course = input(\"Enter course name: \")\n",
    "if name in dict and course in dict[name]:\n",
    "    grade = dict[name][course]\n",
    "    print(f\"{name}'s grade in {course} is: {grade}\")\n",
    "else:\n",
    "    print(f\"No record found for {name} in course {course}\")\n",
    "\n"
   ]
  },
  {
   "cell_type": "code",
   "execution_count": 55,
   "metadata": {},
   "outputs": [
    {
     "name": "stdout",
     "output_type": "stream",
     "text": [
      "The average of all students is: 89.5\n",
      "David has got the highest score of 95\n"
     ]
    }
   ],
   "source": [
    "#average of all scores and highest score in tuple\n",
    "students = [(\"Alice\", 85), (\"Bob\", 90), (\"Charlie\", 88), (\"David\", 95)]\n",
    "sum = 0\n",
    "max = students[0][1]\n",
    "name = students[0][0]\n",
    "for i in range(0, len(students)):\n",
    "        sum += students[i][1]\n",
    "        avg = sum/len(students)\n",
    "for i in range(1, len(students)):\n",
    "        if(students[i][1] > max):\n",
    "                max = students[i][1]\n",
    "                name = students[i][0]\n",
    "print(f\"The average of all students is: {avg}\")\n",
    "print(f\"{name} has got the highest score of {max}\")\n",
    "\n",
    "        \n",
    "\n",
    "        \n",
    "    \n"
   ]
  }
 ],
 "metadata": {
  "kernelspec": {
   "display_name": "Python 3",
   "language": "python",
   "name": "python3"
  },
  "language_info": {
   "codemirror_mode": {
    "name": "ipython",
    "version": 3
   },
   "file_extension": ".py",
   "mimetype": "text/x-python",
   "name": "python",
   "nbconvert_exporter": "python",
   "pygments_lexer": "ipython3",
   "version": "3.9.6"
  }
 },
 "nbformat": 4,
 "nbformat_minor": 2
}
